{
 "cells": [
  {
   "cell_type": "code",
   "execution_count": 1,
   "id": "26192ee3-a53b-4d41-a48d-cd694f323cb3",
   "metadata": {},
   "outputs": [],
   "source": [
    "data = {}"
   ]
  },
  {
   "cell_type": "code",
   "execution_count": 4,
   "id": "15474f64-4f58-467b-8f3a-80377d34fce7",
   "metadata": {},
   "outputs": [
    {
     "name": "stdout",
     "output_type": "stream",
     "text": [
      "dict_keys(['_via_settings', '_via_img_metadata', '_via_attributes'])\n"
     ]
    }
   ],
   "source": [
    "import json\n",
    "\n",
    "with open('via_project_17Apr2020_13h28m.json') as json_file:\n",
    "    json_in = json.load(json_file)"
   ]
  },
  {
   "cell_type": "code",
   "execution_count": 10,
   "id": "8f822495-ccfd-4718-81eb-7f12e16a8c4b",
   "metadata": {},
   "outputs": [],
   "source": [
    "with open('annotations.json') as json_file:\n",
    "    json_out = json.load(json_file)"
   ]
  },
  {
   "cell_type": "code",
   "execution_count": 11,
   "id": "98d32bd9-0e6a-4ccc-bbc8-4eb17d160beb",
   "metadata": {},
   "outputs": [
    {
     "name": "stdout",
     "output_type": "stream",
     "text": [
      "_via_settings\n",
      "_via_img_metadata\n",
      "_via_attributes\n",
      "info\n",
      "images\n",
      "annotations\n",
      "categories\n"
     ]
    }
   ],
   "source": [
    "for key in json_in:\n",
    "    print(key)\n",
    "for key in json_out:\n",
    "    print(key)"
   ]
  },
  {
   "cell_type": "code",
   "execution_count": 8,
   "id": "578feee2-9c06-431f-ae34-1a668c2788fa",
   "metadata": {},
   "outputs": [],
   "source": [
    "data['info'] = {}\n",
    "data['images'] = {}\n",
    "data['annotations'] = {}\n",
    "data['categories'] = {}"
   ]
  },
  {
   "cell_type": "code",
   "execution_count": 9,
   "id": "778a0525-c233-4bb1-a7cf-eabefef2f272",
   "metadata": {},
   "outputs": [
    {
     "name": "stdout",
     "output_type": "stream",
     "text": [
      "{'info': {}, 'images': {}, 'annotations': {}, 'categories': {}}\n"
     ]
    }
   ],
   "source": [
    "print(data)"
   ]
  },
  {
   "cell_type": "code",
   "execution_count": 12,
   "id": "f6d04be2-0048-4ba8-8b75-1b32d404c633",
   "metadata": {},
   "outputs": [],
   "source": [
    "data['categories'] = json_out['categories']"
   ]
  },
  {
   "cell_type": "code",
   "execution_count": 13,
   "id": "c5b82a1c-5530-40b3-8bb6-83861b28b4c9",
   "metadata": {},
   "outputs": [
    {
     "name": "stdout",
     "output_type": "stream",
     "text": [
      "{'info': {}, 'images': {}, 'annotations': {}, 'categories': [{'id': 1, 'name': 'camp'}]}\n"
     ]
    }
   ],
   "source": [
    "print(data)"
   ]
  },
  {
   "cell_type": "code",
   "execution_count": null,
   "id": "f6ab3a00-a8e2-467d-bee4-ce8c3a6660b8",
   "metadata": {},
   "outputs": [],
   "source": []
  }
 ],
 "metadata": {
  "kernelspec": {
   "display_name": "Python 3 (ipykernel)",
   "language": "python",
   "name": "python3"
  },
  "language_info": {
   "codemirror_mode": {
    "name": "ipython",
    "version": 3
   },
   "file_extension": ".py",
   "mimetype": "text/x-python",
   "name": "python",
   "nbconvert_exporter": "python",
   "pygments_lexer": "ipython3",
   "version": "3.7.9"
  }
 },
 "nbformat": 4,
 "nbformat_minor": 5
}
