{
 "cells": [
  {
   "cell_type": "code",
   "execution_count": 1,
   "id": "26192ee3-a53b-4d41-a48d-cd694f323cb3",
   "metadata": {},
   "outputs": [],
   "source": [
    "data = {}"
   ]
  },
  {
   "cell_type": "code",
   "execution_count": 2,
   "id": "15474f64-4f58-467b-8f3a-80377d34fce7",
   "metadata": {},
   "outputs": [],
   "source": [
    "import json\n",
    "\n",
    "with open('via_project_17Apr2020_13h28m.json') as json_file:\n",
    "    json_in = json.load(json_file)"
   ]
  },
  {
   "cell_type": "code",
   "execution_count": 3,
   "id": "8f822495-ccfd-4718-81eb-7f12e16a8c4b",
   "metadata": {},
   "outputs": [],
   "source": [
    "with open('annotations.json') as json_file:\n",
    "    json_out = json.load(json_file)"
   ]
  },
  {
   "cell_type": "code",
   "execution_count": 4,
   "id": "98d32bd9-0e6a-4ccc-bbc8-4eb17d160beb",
   "metadata": {},
   "outputs": [
    {
     "name": "stdout",
     "output_type": "stream",
     "text": [
      "_via_settings\n",
      "_via_img_metadata\n",
      "_via_attributes\n",
      "info\n",
      "images\n",
      "annotations\n",
      "categories\n"
     ]
    }
   ],
   "source": [
    "for key in json_in:\n",
    "    print(key)\n",
    "for key in json_out:\n",
    "    print(key)"
   ]
  },
  {
   "cell_type": "code",
   "execution_count": 5,
   "id": "578feee2-9c06-431f-ae34-1a668c2788fa",
   "metadata": {},
   "outputs": [],
   "source": [
    "data['info'] = {}\n",
    "data['images'] = {}\n",
    "data['annotations'] = {}\n",
    "data['categories'] = {}"
   ]
  },
  {
   "cell_type": "code",
   "execution_count": 6,
   "id": "778a0525-c233-4bb1-a7cf-eabefef2f272",
   "metadata": {},
   "outputs": [
    {
     "name": "stdout",
     "output_type": "stream",
     "text": [
      "{'info': {}, 'images': {}, 'annotations': {}, 'categories': {}}\n"
     ]
    }
   ],
   "source": [
    "print(data)"
   ]
  },
  {
   "cell_type": "code",
   "execution_count": 7,
   "id": "f6d04be2-0048-4ba8-8b75-1b32d404c633",
   "metadata": {},
   "outputs": [],
   "source": [
    "data['categories'] = json_out['categories']"
   ]
  },
  {
   "cell_type": "code",
   "execution_count": 8,
   "id": "c5b82a1c-5530-40b3-8bb6-83861b28b4c9",
   "metadata": {},
   "outputs": [
    {
     "name": "stdout",
     "output_type": "stream",
     "text": [
      "{'info': {}, 'images': {}, 'annotations': {}, 'categories': [{'id': 1, 'name': 'camp'}]}\n"
     ]
    }
   ],
   "source": [
    "print(data)"
   ]
  },
  {
   "cell_type": "code",
   "execution_count": 9,
   "id": "f6ab3a00-a8e2-467d-bee4-ce8c3a6660b8",
   "metadata": {},
   "outputs": [],
   "source": [
    "data['categories'] = json_out['categories']"
   ]
  },
  {
   "cell_type": "code",
   "execution_count": 10,
   "id": "ff02d7a9-7d27-4b04-be5c-f993edb81be8",
   "metadata": {},
   "outputs": [
    {
     "name": "stdout",
     "output_type": "stream",
     "text": [
      "{'info': {}, 'images': {}, 'annotations': {}, 'categories': [{'id': 1, 'name': 'camp'}]}\n"
     ]
    }
   ],
   "source": [
    "print(data)"
   ]
  },
  {
   "cell_type": "code",
   "execution_count": 11,
   "id": "9a726362-274a-42b6-b054-ff70b270b5bc",
   "metadata": {},
   "outputs": [
    {
     "name": "stdout",
     "output_type": "stream",
     "text": [
      "{}\n",
      "{}\n",
      "{}\n",
      "[{'id': 1, 'name': 'camp'}]\n"
     ]
    }
   ],
   "source": [
    "for key in data:\n",
    "    print(data[key])"
   ]
  },
  {
   "cell_type": "code",
   "execution_count": 12,
   "id": "5aefdd89-23ba-40af-bc51-cbb6d03ab091",
   "metadata": {},
   "outputs": [
    {
     "name": "stdout",
     "output_type": "stream",
     "text": [
      "{'info': {}, 'images': {}, 'annotations': {}, 'categories': [{'id': 1, 'name': 'camp'}]}\n"
     ]
    }
   ],
   "source": [
    "print(data)"
   ]
  },
  {
   "cell_type": "code",
   "execution_count": 13,
   "id": "9168ded8-7b87-4089-83a3-57878c86a00a",
   "metadata": {},
   "outputs": [],
   "source": [
    "i = 0"
   ]
  },
  {
   "cell_type": "code",
   "execution_count": 14,
   "id": "306d0cae-4447-47a5-9b91-4d9ec62e8593",
   "metadata": {},
   "outputs": [
    {
     "name": "stdout",
     "output_type": "stream",
     "text": [
      "3.jpg313255\n",
      "4.jpg314843\n",
      "5.jpg319312\n",
      "6.jpg320996\n",
      "7.jpg306759\n",
      "9.jpg372191\n",
      "11.jpg378237\n",
      "12.jpg353588\n",
      "13.jpg356866\n",
      "14.jpg345531\n",
      "17.jpg395189\n",
      "19.jpg370400\n",
      "20.jpg377322\n",
      "23.jpg343488\n",
      "25.jpg354066\n",
      "26.jpg372776\n",
      "28.jpg368996\n",
      "29.jpg373694\n",
      "30.jpg366314\n",
      "32.jpg371632\n",
      "33.jpg355063\n",
      "40.jpg314879\n",
      "46.jpg313125\n",
      "47.jpg326356\n",
      "48.jpg313570\n",
      "49.jpg302162\n",
      "50.jpg295910\n",
      "52.jpg371644\n",
      "54.jpg374480\n",
      "59.jpg336735\n",
      "61.jpg356433\n",
      "64.jpg353635\n",
      "67.jpg359739\n",
      "69.jpg360079\n",
      "71.jpg322240\n",
      "74.jpg324900\n",
      "75.jpg319142\n",
      "76.jpg295116\n",
      "77.jpg299841\n",
      "79.jpg305547\n",
      "85.jpg273908\n",
      "86.jpg302853\n",
      "89.jpg253380\n",
      "90.jpg270053\n",
      "92.jpg261660\n",
      "94.jpg278228\n",
      "96.jpg280570\n",
      "104.jpg287123\n",
      "105.jpg287072\n",
      "107.jpg280732\n",
      "109.jpg279437\n",
      "111.jpg250490\n",
      "112.jpg288275\n",
      "114.jpg260280\n",
      "118.jpg268525\n",
      "120.jpg260869\n",
      "122.jpg264284\n",
      "125.jpg278940\n",
      "127.jpg259824\n",
      "130.jpg244219\n",
      "132.jpg260277\n",
      "37.jpg368172\n",
      "{'info': {}, 'images': {'0:': {'id': 1, 'width': 1280, 'height': 720, 'file_name': '3.jpg'}, '1:': {'id': 2, 'width': 1280, 'height': 720, 'file_name': '4.jpg'}, '2:': {'id': 3, 'width': 1280, 'height': 720, 'file_name': '5.jpg'}, '3:': {'id': 4, 'width': 1280, 'height': 720, 'file_name': '6.jpg'}, '4:': {'id': 5, 'width': 1280, 'height': 720, 'file_name': '7.jpg'}, '5:': {'id': 6, 'width': 1280, 'height': 720, 'file_name': '9.jpg'}, '6:': {'id': 7, 'width': 1280, 'height': 720, 'file_name': '11.jpg'}, '7:': {'id': 8, 'width': 1280, 'height': 720, 'file_name': '12.jpg'}, '8:': {'id': 9, 'width': 1280, 'height': 720, 'file_name': '13.jpg'}, '9:': {'id': 10, 'width': 1280, 'height': 720, 'file_name': '14.jpg'}, '10:': {'id': 11, 'width': 1280, 'height': 720, 'file_name': '17.jpg'}, '11:': {'id': 12, 'width': 1280, 'height': 720, 'file_name': '19.jpg'}, '12:': {'id': 13, 'width': 1280, 'height': 720, 'file_name': '20.jpg'}, '13:': {'id': 14, 'width': 1280, 'height': 720, 'file_name': '23.jpg'}, '14:': {'id': 15, 'width': 1280, 'height': 720, 'file_name': '25.jpg'}, '15:': {'id': 16, 'width': 1280, 'height': 720, 'file_name': '26.jpg'}, '16:': {'id': 17, 'width': 1280, 'height': 720, 'file_name': '28.jpg'}, '17:': {'id': 18, 'width': 1280, 'height': 720, 'file_name': '29.jpg'}, '18:': {'id': 19, 'width': 1280, 'height': 720, 'file_name': '30.jpg'}, '19:': {'id': 20, 'width': 1280, 'height': 720, 'file_name': '32.jpg'}, '20:': {'id': 21, 'width': 1280, 'height': 720, 'file_name': '33.jpg'}, '21:': {'id': 22, 'width': 1280, 'height': 720, 'file_name': '40.jpg'}, '22:': {'id': 23, 'width': 1280, 'height': 720, 'file_name': '46.jpg'}, '23:': {'id': 24, 'width': 1280, 'height': 720, 'file_name': '47.jpg'}, '24:': {'id': 25, 'width': 1280, 'height': 720, 'file_name': '48.jpg'}, '25:': {'id': 26, 'width': 1280, 'height': 720, 'file_name': '49.jpg'}, '26:': {'id': 27, 'width': 1280, 'height': 720, 'file_name': '50.jpg'}, '27:': {'id': 28, 'width': 1280, 'height': 720, 'file_name': '52.jpg'}, '28:': {'id': 29, 'width': 1280, 'height': 720, 'file_name': '54.jpg'}, '29:': {'id': 30, 'width': 1280, 'height': 720, 'file_name': '59.jpg'}, '30:': {'id': 31, 'width': 1280, 'height': 720, 'file_name': '61.jpg'}, '31:': {'id': 32, 'width': 1280, 'height': 720, 'file_name': '64.jpg'}, '32:': {'id': 33, 'width': 1280, 'height': 720, 'file_name': '67.jpg'}, '33:': {'id': 34, 'width': 1280, 'height': 720, 'file_name': '69.jpg'}, '34:': {'id': 35, 'width': 1280, 'height': 720, 'file_name': '71.jpg'}, '35:': {'id': 36, 'width': 1280, 'height': 720, 'file_name': '74.jpg'}, '36:': {'id': 37, 'width': 1280, 'height': 720, 'file_name': '75.jpg'}, '37:': {'id': 38, 'width': 1280, 'height': 720, 'file_name': '76.jpg'}, '38:': {'id': 39, 'width': 1280, 'height': 720, 'file_name': '77.jpg'}, '39:': {'id': 40, 'width': 1280, 'height': 720, 'file_name': '79.jpg'}, '40:': {'id': 41, 'width': 1280, 'height': 720, 'file_name': '85.jpg'}, '41:': {'id': 42, 'width': 1280, 'height': 720, 'file_name': '86.jpg'}, '42:': {'id': 43, 'width': 1280, 'height': 720, 'file_name': '89.jpg'}, '43:': {'id': 44, 'width': 1280, 'height': 720, 'file_name': '90.jpg'}, '44:': {'id': 45, 'width': 1280, 'height': 720, 'file_name': '92.jpg'}, '45:': {'id': 46, 'width': 1280, 'height': 720, 'file_name': '94.jpg'}, '46:': {'id': 47, 'width': 1280, 'height': 720, 'file_name': '96.jpg'}, '47:': {'id': 48, 'width': 1280, 'height': 720, 'file_name': '104.jpg'}, '48:': {'id': 49, 'width': 1280, 'height': 720, 'file_name': '105.jpg'}, '49:': {'id': 50, 'width': 1280, 'height': 720, 'file_name': '107.jpg'}, '50:': {'id': 51, 'width': 1280, 'height': 720, 'file_name': '109.jpg'}, '51:': {'id': 52, 'width': 1280, 'height': 720, 'file_name': '111.jpg'}, '52:': {'id': 53, 'width': 1280, 'height': 720, 'file_name': '112.jpg'}, '53:': {'id': 54, 'width': 1280, 'height': 720, 'file_name': '114.jpg'}, '54:': {'id': 55, 'width': 1280, 'height': 720, 'file_name': '118.jpg'}, '55:': {'id': 56, 'width': 1280, 'height': 720, 'file_name': '120.jpg'}, '56:': {'id': 57, 'width': 1280, 'height': 720, 'file_name': '122.jpg'}, '57:': {'id': 58, 'width': 1280, 'height': 720, 'file_name': '125.jpg'}, '58:': {'id': 59, 'width': 1280, 'height': 720, 'file_name': '127.jpg'}, '59:': {'id': 60, 'width': 1280, 'height': 720, 'file_name': '130.jpg'}, '60:': {'id': 61, 'width': 1280, 'height': 720, 'file_name': '132.jpg'}, '61:': {'id': 62, 'width': 1280, 'height': 720, 'file_name': '37.jpg'}}, 'annotations': {}, 'categories': [{'id': 1, 'name': 'camp'}]}\n"
     ]
    }
   ],
   "source": [
    "for img in json_in['_via_img_metadata']:\n",
    "    print(img)\n",
    "    data['images'][str(i)+':'] = {}\n",
    "    data['images'][str(i)+':']['id'] = i + 1\n",
    "    data['images'][str(i)+':']['width'] = 1280\n",
    "    data['images'][str(i)+':']['height'] = 720\n",
    "    data['images'][str(i)+':']['file_name'] = json_in['_via_img_metadata'][img]['filename']\n",
    "    i = i + 1\n",
    "print(data)"
   ]
  },
  {
   "cell_type": "code",
   "execution_count": null,
   "id": "e925a5f4-4a0f-440c-9961-e1269a606e20",
   "metadata": {},
   "outputs": [],
   "source": []
  }
 ],
 "metadata": {
  "kernelspec": {
   "display_name": "Python 3 (ipykernel)",
   "language": "python",
   "name": "python3"
  },
  "language_info": {
   "codemirror_mode": {
    "name": "ipython",
    "version": 3
   },
   "file_extension": ".py",
   "mimetype": "text/x-python",
   "name": "python",
   "nbconvert_exporter": "python",
   "pygments_lexer": "ipython3",
   "version": "3.7.9"
  }
 },
 "nbformat": 4,
 "nbformat_minor": 5
}
