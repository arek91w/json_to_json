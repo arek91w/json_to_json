{
 "cells": [
  {
   "cell_type": "code",
   "execution_count": 1,
   "id": "26192ee3-a53b-4d41-a48d-cd694f323cb3",
   "metadata": {},
   "outputs": [],
   "source": [
    "data = {}\n",
    "# https://www.youtube.com/watch?v=WuvY0wJDl0k&t=1346s"
   ]
  },
  {
   "cell_type": "code",
   "execution_count": 2,
   "id": "15474f64-4f58-467b-8f3a-80377d34fce7",
   "metadata": {},
   "outputs": [],
   "source": [
    "import json\n",
    "\n",
    "with open('via_project_17Apr2020_13h28m.json') as json_file:\n",
    "    json_in = json.load(json_file)"
   ]
  },
  {
   "cell_type": "code",
   "execution_count": 3,
   "id": "8f822495-ccfd-4718-81eb-7f12e16a8c4b",
   "metadata": {},
   "outputs": [],
   "source": [
    "with open('annotations.json') as json_file:\n",
    "    json_out = json.load(json_file)"
   ]
  },
  {
   "cell_type": "code",
   "execution_count": 4,
   "id": "98d32bd9-0e6a-4ccc-bbc8-4eb17d160beb",
   "metadata": {},
   "outputs": [
    {
     "name": "stdout",
     "output_type": "stream",
     "text": [
      "_via_settings\n",
      "_via_img_metadata\n",
      "_via_attributes\n",
      "info\n",
      "images\n",
      "annotations\n",
      "categories\n"
     ]
    }
   ],
   "source": [
    "for key in json_in:\n",
    "    print(key)\n",
    "for key in json_out:\n",
    "    print(key)"
   ]
  },
  {
   "cell_type": "code",
   "execution_count": 5,
   "id": "578feee2-9c06-431f-ae34-1a668c2788fa",
   "metadata": {},
   "outputs": [],
   "source": [
    "data['info'] = {}\n",
    "data['images'] = []\n",
    "data['annotations'] = []\n",
    "data['categories'] = {}"
   ]
  },
  {
   "cell_type": "code",
   "execution_count": 6,
   "id": "778a0525-c233-4bb1-a7cf-eabefef2f272",
   "metadata": {},
   "outputs": [
    {
     "name": "stdout",
     "output_type": "stream",
     "text": [
      "{'info': {}, 'images': [], 'annotations': [], 'categories': {}}\n"
     ]
    }
   ],
   "source": [
    "print(data)"
   ]
  },
  {
   "cell_type": "code",
   "execution_count": 7,
   "id": "f6d04be2-0048-4ba8-8b75-1b32d404c633",
   "metadata": {},
   "outputs": [],
   "source": [
    "data['categories'] = json_out['categories']"
   ]
  },
  {
   "cell_type": "code",
   "execution_count": 8,
   "id": "c5b82a1c-5530-40b3-8bb6-83861b28b4c9",
   "metadata": {},
   "outputs": [
    {
     "name": "stdout",
     "output_type": "stream",
     "text": [
      "{'info': {}, 'images': [], 'annotations': [], 'categories': [{'id': 1, 'name': 'camp'}]}\n"
     ]
    }
   ],
   "source": [
    "print(data)"
   ]
  },
  {
   "cell_type": "code",
   "execution_count": 9,
   "id": "f6ab3a00-a8e2-467d-bee4-ce8c3a6660b8",
   "metadata": {},
   "outputs": [],
   "source": [
    "data['categories'] = json_out['categories']"
   ]
  },
  {
   "cell_type": "code",
   "execution_count": 10,
   "id": "ff02d7a9-7d27-4b04-be5c-f993edb81be8",
   "metadata": {},
   "outputs": [
    {
     "name": "stdout",
     "output_type": "stream",
     "text": [
      "{'info': {}, 'images': [], 'annotations': [], 'categories': [{'id': 1, 'name': 'camp'}]}\n"
     ]
    }
   ],
   "source": [
    "print(data)"
   ]
  },
  {
   "cell_type": "code",
   "execution_count": 11,
   "id": "9a726362-274a-42b6-b054-ff70b270b5bc",
   "metadata": {},
   "outputs": [
    {
     "name": "stdout",
     "output_type": "stream",
     "text": [
      "{}\n",
      "[]\n",
      "[]\n",
      "[{'id': 1, 'name': 'camp'}]\n"
     ]
    }
   ],
   "source": [
    "for key in data:\n",
    "    print(data[key])"
   ]
  },
  {
   "cell_type": "code",
   "execution_count": 12,
   "id": "5aefdd89-23ba-40af-bc51-cbb6d03ab091",
   "metadata": {},
   "outputs": [
    {
     "name": "stdout",
     "output_type": "stream",
     "text": [
      "{'info': {}, 'images': [], 'annotations': [], 'categories': [{'id': 1, 'name': 'camp'}]}\n"
     ]
    }
   ],
   "source": [
    "print(data)"
   ]
  },
  {
   "cell_type": "code",
   "execution_count": 13,
   "id": "9168ded8-7b87-4089-83a3-57878c86a00a",
   "metadata": {},
   "outputs": [],
   "source": [
    "i = 0\n",
    "j = 0"
   ]
  },
  {
   "cell_type": "code",
   "execution_count": 14,
   "id": "306d0cae-4447-47a5-9b91-4d9ec62e8593",
   "metadata": {},
   "outputs": [],
   "source": [
    "for img in json_in['_via_img_metadata']:\n",
    "    #print(json_in['_via_img_metadata'][img]['filename'])\n",
    "    im = {}\n",
    "    im['id'] = i + 1\n",
    "    im['width'] = 1280\n",
    "    im['height'] = 720\n",
    "    im['file_name'] = json_in['_via_img_metadata'][img]['filename']\n",
    "    data['images'].append(im)\n",
    "    for annot in json_in['_via_img_metadata'][img]['regions']:\n",
    "        ann = {}\n",
    "        ann['id'] = j\n",
    "        ann['iscrowd'] = 0\n",
    "        ann['image_id'] = i + 1\n",
    "        ann['category_id'] = 1\n",
    "        ann['segmentation'] = []\n",
    "        ann['bbox'] = []\n",
    "        points = []\n",
    "        for px, py in zip(annot['shape_attributes']['all_points_x'], annot['shape_attributes']['all_points_y']):\n",
    "            points.append(float(px))\n",
    "            points.append(float(py))\n",
    "        ann['segmentation'].append(points)\n",
    "        x_points = annot['shape_attributes']['all_points_x']\n",
    "        y_points = annot['shape_attributes']['all_points_y']\n",
    "        x_min = float(min(x_points))\n",
    "        y_min = float(min(y_points))\n",
    "        x_max = float(max(x_points))\n",
    "        y_max = float(max(y_points))\n",
    "        ann['bbox'].append(x_min)\n",
    "        ann['bbox'].append(y_min)\n",
    "        ann['bbox'].append(x_max - x_min)\n",
    "        ann['bbox'].append(y_max - y_min)\n",
    "        ann['area'] = ((x_max - x_min)*(y_max - y_min))\n",
    "        #print(json_in['_via_img_metadata'][img]['regions'])\n",
    "        data['annotations'].append(ann)\n",
    "        j = j + 1\n",
    "    \n",
    "    i = i + 1"
   ]
  },
  {
   "cell_type": "code",
   "execution_count": 15,
   "id": "e925a5f4-4a0f-440c-9961-e1269a606e20",
   "metadata": {},
   "outputs": [],
   "source": [
    "#print(data)"
   ]
  },
  {
   "cell_type": "code",
   "execution_count": 16,
   "id": "c6c896ab-8999-4a66-aa19-7c7563346ae1",
   "metadata": {},
   "outputs": [],
   "source": [
    "with open('ann_final_2.json', 'w') as f:\n",
    "    json.dump(data, f)"
   ]
  },
  {
   "cell_type": "code",
   "execution_count": null,
   "id": "4272dcb7-407e-43b3-8226-8c2515b0db09",
   "metadata": {},
   "outputs": [],
   "source": []
  }
 ],
 "metadata": {
  "kernelspec": {
   "display_name": "Python 3 (ipykernel)",
   "language": "python",
   "name": "python3"
  },
  "language_info": {
   "codemirror_mode": {
    "name": "ipython",
    "version": 3
   },
   "file_extension": ".py",
   "mimetype": "text/x-python",
   "name": "python",
   "nbconvert_exporter": "python",
   "pygments_lexer": "ipython3",
   "version": "3.7.9"
  }
 },
 "nbformat": 4,
 "nbformat_minor": 5
}
